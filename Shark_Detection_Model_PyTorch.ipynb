{
 "cells": [
  {
   "cell_type": "markdown",
   "metadata": {},
   "source": [
    "# Install Packages"
   ]
  },
  {
   "cell_type": "code",
   "execution_count": null,
   "metadata": {},
   "outputs": [],
   "source": [
    "!pip install ultralytics\n",
    "!pip install torch torchvision torchaudio\n",
    "!pip install matplotlib.pyplot\n",
    "!pip install Pillow"
   ]
  },
  {
   "cell_type": "markdown",
   "metadata": {},
   "source": [
    "# Define Specs"
   ]
  },
  {
   "cell_type": "code",
   "execution_count": 2,
   "metadata": {},
   "outputs": [
    {
     "name": "stdout",
     "output_type": "stream",
     "text": [
      "TensorFlow version: 2.16.1\n",
      "All Physical Devices: [PhysicalDevice(name='/physical_device:GPU:0', device_type='GPU')]\n",
      "GPUs: [PhysicalDevice(name='/physical_device:GPU:0', device_type='GPU')]\n",
      "CUDA version: 12.0\n",
      "cuDNN version: 8\n"
     ]
    }
   ],
   "source": [
    "import tensorflow as tf\n",
    "\n",
    "print(\"TensorFlow version:\", tf.__version__)\n",
    "physical_devices = tf.config.list_physical_devices('GPU')\n",
    "print(\"All Physical Devices:\", physical_devices)\n",
    "print(\"GPUs:\", physical_devices)\n",
    "\n",
    "print(\"CUDA version:\", tf.sysconfig.get_build_info()[\"cuda_version\"])\n",
    "print(\"cuDNN version:\", tf.sysconfig.get_build_info()[\"cudnn_version\"])\n",
    "\n"
   ]
  },
  {
   "cell_type": "markdown",
   "metadata": {},
   "source": [
    "# Import"
   ]
  },
  {
   "cell_type": "code",
   "execution_count": 1,
   "metadata": {},
   "outputs": [],
   "source": [
    "import os\n",
    "import torch\n",
    "import torch.nn as nn\n",
    "import torch.optim as optim\n",
    "from torchvision import datasets, transforms, models\n",
    "from torch.utils.data import DataLoader, Dataset\n",
    "from torch.optim.lr_scheduler import ReduceLROnPlateau\n",
    "from tqdm import tqdm\n",
    "from PIL import Image\n",
    "import numpy as np\n",
    "import random\n",
    "from sklearn.metrics import classification_report, confusion_matrix, accuracy_score, precision_recall_fscore_support, roc_auc_score, precision_score, recall_score, f1_score\n",
    "import matplotlib.pyplot as plt\n",
    "import seaborn as sns\n",
    "from efficientnet_pytorch import EfficientNet"
   ]
  },
  {
   "cell_type": "markdown",
   "metadata": {},
   "source": [
    "# Define Custom Dataset"
   ]
  },
  {
   "cell_type": "code",
   "execution_count": 3,
   "metadata": {},
   "outputs": [],
   "source": [
    "# Define the dataset path\n",
    "data_dir = '/home/iambrink/Shark_Object_Detection/Shark_Classification_Data_V2'\n",
    "\n",
    "# Custom Dataset class for loading images\n",
    "class CustomDataset(Dataset):\n",
    "    def __init__(self, root, transform=None):\n",
    "        self.root = root\n",
    "        self.transform = transform\n",
    "        self.images = []\n",
    "        self.labels = []\n",
    "        \n",
    "        # Traverse through each class folder\n",
    "        for label, class_name in enumerate(os.listdir(root)):\n",
    "            class_folder = os.path.join(root, class_name)\n",
    "            for img_name in os.listdir(class_folder):\n",
    "                img_path = os.path.join(class_folder, img_name)\n",
    "                self.images.append(img_path)\n",
    "                self.labels.append(label)  # Use class index as label\n",
    "\n",
    "    def __len__(self):\n",
    "        return len(self.images)\n",
    "\n",
    "    def __getitem__(self, idx):\n",
    "        img_path = self.images[idx]\n",
    "        image = Image.open(img_path).convert('RGB')  # Load image and convert to RGB\n",
    "        label = self.labels[idx]\n",
    "\n",
    "        if self.transform:\n",
    "            image = self.transform(image)  # Apply transformations\n",
    "\n",
    "        return image, label"
   ]
  },
  {
   "cell_type": "markdown",
   "metadata": {},
   "source": [
    "# Define Transformers"
   ]
  },
  {
   "cell_type": "code",
   "execution_count": 4,
   "metadata": {},
   "outputs": [],
   "source": [
    "data_transforms = transforms.Compose([\n",
    "    transforms.RandomResizedCrop(320),  # Resize to 224x224 to match EfficientNet-B0 input size\n",
    "    transforms.RandomHorizontalFlip(),  # Randomly flip images horizontally\n",
    "    transforms.RandomVerticalFlip(),    # Randomly flip images vertically \n",
    "    transforms.ColorJitter(brightness=0.2, contrast=0.2, saturation=0.2, hue=0.1),  # Random color adjustments\n",
    "    transforms.RandomRotation(15),      # Random rotation\n",
    "    transforms.GaussianBlur(kernel_size=(5, 9), sigma=(0.1, 5)),  # Apply Gaussian blur \n",
    "    transforms.ToTensor(),              # Convert to tensor\n",
    "    transforms.Normalize(mean=[0.485, 0.456, 0.406], std=[0.229, 0.224, 0.225]),  # Normalize\n",
    "])\n",
    "\n",
    "# Define test/validation transformations (without augmentations)\n",
    "data_transforms_test = transforms.Compose([\n",
    "    transforms.Resize(320),             # Resize to 224x224\n",
    "    transforms.CenterCrop(320),         # Center crop\n",
    "    transforms.ToTensor(),              # Convert to tensor\n",
    "    transforms.Normalize(mean=[0.485, 0.456, 0.406], std=[0.229, 0.224, 0.225]),  # Normalize\n",
    "])"
   ]
  },
  {
   "cell_type": "markdown",
   "metadata": {},
   "source": [
    "# Set-up Data"
   ]
  },
  {
   "cell_type": "code",
   "execution_count": 5,
   "metadata": {},
   "outputs": [
    {
     "name": "stdout",
     "output_type": "stream",
     "text": [
      "Dataset Sizes: {'train': 2116, 'valid': 450, 'test': 450}\n",
      "Class Names: ['Blue Shark', 'Whale Shark', 'Nurse Shark', 'Tiger Shark', 'Whitetip Shark', 'Sand Tiger Shark', 'Bull Shark', 'Hammerhead Shark', 'White Shark', 'Mako Shark']\n"
     ]
    }
   ],
   "source": [
    "# Define batch size\n",
    "batch_size = 64\n",
    "\n",
    "# Load datasets using the custom dataset class\n",
    "train_dataset = CustomDataset(root=os.path.join(data_dir, 'train'), transform=data_transforms)\n",
    "valid_dataset = CustomDataset(root=os.path.join(data_dir, 'valid'), transform=data_transforms)\n",
    "test_dataset = CustomDataset(root=os.path.join(data_dir, 'test'), transform=data_transforms_test)\n",
    "\n",
    "# Create DataLoaders for each dataset\n",
    "trainloader = DataLoader(train_dataset, batch_size=batch_size, shuffle=True, num_workers=4)\n",
    "validloader = DataLoader(valid_dataset, batch_size=batch_size, shuffle=False, num_workers=4)\n",
    "testloader = DataLoader(test_dataset, batch_size=batch_size, shuffle=False, num_workers=4)\n",
    "\n",
    "# Get dataset sizes and class names\n",
    "dataset_sizes = {\n",
    "    'train': len(train_dataset),\n",
    "    'valid': len(valid_dataset),\n",
    "    'test': len(test_dataset)\n",
    "}\n",
    "class_names = os.listdir(os.path.join(data_dir, 'train'))  # Get class names from training data\n",
    "\n",
    "# Print dataset sizes and class names for verification\n",
    "print(f\"Dataset Sizes: {dataset_sizes}\")\n",
    "print(f\"Class Names: {class_names}\")"
   ]
  },
  {
   "cell_type": "markdown",
   "metadata": {},
   "source": [
    "# Define Model, Device, Criterion, Optmizer, and Scheduler"
   ]
  },
  {
   "cell_type": "code",
   "execution_count": 7,
   "metadata": {},
   "outputs": [],
   "source": [
    "# Load EfficientNetB0 model pre-trained on ImageNet\n",
    "model = models.efficientnet_b0(weights='DEFAULT')  # Update this for newer torchvision versions\n",
    "\n",
    "# Modify the classifier layer to match your 10 shark species\n",
    "num_ftrs = model.classifier[1].in_features\n",
    "model.classifier[1] = nn.Linear(num_ftrs, 10)  # 10 shark species\n",
    "\n",
    "# Move the model to GPU if available\n",
    "device = torch.device(\"cuda:0\" if torch.cuda.is_available() else \"cpu\")\n",
    "model = model.to(device)\n",
    "\n",
    "\n",
    "# Define loss function (cross-entropy for classification)\n",
    "criterion = nn.CrossEntropyLoss()\n",
    "\n",
    "# Optimizer and scheduler\n",
    "optimizer = optim.Adam(model.parameters(), lr=.001)\n",
    "# scheduler = ReduceLROnPlateau(optimizer, 'min', factor=0.3, patience=3, verbose=True)\n",
    "\n",
    "scheduler = torch.optim.lr_scheduler.CosineAnnealingLR(optimizer, T_max=500)  \n"
   ]
  },
  {
   "cell_type": "markdown",
   "metadata": {},
   "source": [
    "# Define Seed"
   ]
  },
  {
   "cell_type": "code",
   "execution_count": 8,
   "metadata": {},
   "outputs": [],
   "source": [
    "def set_seed(seed_value=42):\n",
    "    # Set seed for Python's random module\n",
    "    random.seed(seed_value)\n",
    "\n",
    "    # Set seed for NumPy's random number generator\n",
    "    np.random.seed(seed_value)\n",
    "\n",
    "    # Set seed for PyTorch (both CPU and GPU, if applicable)\n",
    "    torch.manual_seed(seed_value)\n",
    "    \n",
    "    if torch.cuda.is_available():\n",
    "        torch.cuda.manual_seed(seed_value)\n",
    "        torch.cuda.manual_seed_all(seed_value)  \n",
    "\n",
    "    # Ensure deterministic behavior\n",
    "    torch.backends.cudnn.deterministic = True\n",
    "    torch.backends.cudnn.benchmark = False\n",
    "set_seed(42)\n"
   ]
  },
  {
   "cell_type": "code",
   "execution_count": 40,
   "metadata": {},
   "outputs": [],
   "source": [
    "# save_path = '/home/iambrink/Shark_Object_Detection/Shark_AI_Detection_Model_V2'\n",
    "best_model_path = '/home/iambrink/Shark_Object_Detection/Shark_Classification_Model_V3'\n",
    "save_path = '/home/iambrink/Shark_Object_Detection/Best_Shark_Detection_Model.pth'"
   ]
  },
  {
   "cell_type": "markdown",
   "metadata": {},
   "source": [
    "# Pre load Model "
   ]
  },
  {
   "cell_type": "code",
   "execution_count": 27,
   "metadata": {},
   "outputs": [
    {
     "name": "stdout",
     "output_type": "stream",
     "text": [
      "Loaded super model from disk.\n",
      "Confusion Matrix:\n",
      "[[41  1  0  0  0  0  0  1  0  2]\n",
      " [ 0 45  0  0  0  0  0  0  0  0]\n",
      " [ 0  1 39  0  0  1  1  3  0  0]\n",
      " [ 2  1  0 33  0  1  5  1  0  2]\n",
      " [ 1  0  0  0 42  0  0  0  2  0]\n",
      " [ 0  0  0  1  0 42  1  0  1  0]\n",
      " [ 3  0  0  2  2  2 32  3  1  0]\n",
      " [ 1  0  1  0  0  0  4 38  0  1]\n",
      " [ 2  0  0  1  0  0  0  0 41  1]\n",
      " [ 2  0  0  0  0  0  0  1  4 38]]\n",
      "Classification Report:\n",
      "                  precision    recall  f1-score   support\n",
      "\n",
      "      Blue Shark       0.79      0.91      0.85        45\n",
      "     Whale Shark       0.94      1.00      0.97        45\n",
      "     Nurse Shark       0.97      0.87      0.92        45\n",
      "     Tiger Shark       0.89      0.73      0.80        45\n",
      "  Whitetip Shark       0.95      0.93      0.94        45\n",
      "Sand Tiger Shark       0.91      0.93      0.92        45\n",
      "      Bull Shark       0.74      0.71      0.73        45\n",
      "Hammerhead Shark       0.81      0.84      0.83        45\n",
      "     White Shark       0.84      0.91      0.87        45\n",
      "      Mako Shark       0.86      0.84      0.85        45\n",
      "\n",
      "        accuracy                           0.87       450\n",
      "       macro avg       0.87      0.87      0.87       450\n",
      "    weighted avg       0.87      0.87      0.87       450\n",
      "\n",
      "Super Model Accuracy: 86.89%\n",
      "Super Model AUC: 0.9851\n",
      "Super Model Precision: 0.8714\n",
      "Super Model Recall: 0.8689\n",
      "Super Model F1 Score: 0.8682\n"
     ]
    }
   ],
   "source": [
    "if os.path.exists(best_model_path):\n",
    "    model = models.efficientnet_b0(weights='DEFAULT')  # Initialize the same architecture\n",
    "    num_ftrs = model.classifier[1].in_features\n",
    "    model.classifier[1] = nn.Linear(num_ftrs, 10)  # Assuming 10 classes (shark species)\n",
    "    model.load_state_dict(torch.load(best_model_path))  # Load the pre-saved model's state\n",
    "    print(\"Loaded super model from disk.\")\n",
    "    \n",
    "    # Move model to device (GPU/CPU)\n",
    "    model = model.to(device)\n",
    "\n",
    "    # Evaluate on the test set\n",
    "    model.eval()\n",
    "    y_true, y_pred, y_prob = [], [], []\n",
    "\n",
    "    with torch.no_grad():\n",
    "        for inputs, labels in testloader:\n",
    "            inputs = inputs.to(device)\n",
    "            labels = labels.to(device)\n",
    "            \n",
    "            outputs = model(inputs)\n",
    "            _, preds = torch.max(outputs, 1)\n",
    "            probs = torch.nn.functional.softmax(outputs, dim=1)\n",
    "            \n",
    "            y_true.extend(labels.cpu().numpy())\n",
    "            y_pred.extend(preds.cpu().numpy())\n",
    "            y_prob.extend(probs.cpu().numpy())\n",
    "\n",
    "    y_true = np.array(y_true)\n",
    "    y_pred = np.array(y_pred)\n",
    "    y_prob = np.array(y_prob)\n",
    "\n",
    "    # Calculate evaluation metrics\n",
    "    SMaccuracy = accuracy_score(y_true, y_pred)\n",
    "    SMprecision, SMrecall, SMf1, _ = precision_recall_fscore_support(y_true, y_pred, average='weighted')\n",
    "    SMauc = roc_auc_score(y_true, y_prob, multi_class='ovr')\n",
    "\n",
    "    # Print confusion matrix and classification report\n",
    "    print(\"Confusion Matrix:\")\n",
    "    print(confusion_matrix(y_true, y_pred))\n",
    "\n",
    "    print(\"Classification Report:\")\n",
    "    print(classification_report(y_true, y_pred, target_names=class_names))\n",
    "\n",
    "    # Print additional stats\n",
    "    print(f\"Super Model Accuracy: {100 * SMaccuracy:.2f}%\")\n",
    "    print(f\"Super Model AUC: {SMauc:.4f}\")\n",
    "    print(f\"Super Model Precision: {SMprecision:.4f}\")\n",
    "    print(f\"Super Model Recall: {SMrecall:.4f}\")\n",
    "    print(f\"Super Model F1 Score: {SMf1:.4f}\")\n",
    "    \n",
    "\n",
    "else:\n",
    "    # If no super model exists, start with a new model\n",
    "    model = models.efficientnet_b0(weights='DEFAULT')\n",
    "    num_ftrs = model.classifier[1].in_features\n",
    "    model.classifier[1] = nn.Linear(num_ftrs, 10)\n",
    "    print(\"No existing super model found, starting fresh.\")\n",
    "\n",
    "    model = model.to(device)\n"
   ]
  },
  {
   "cell_type": "markdown",
   "metadata": {},
   "source": [
    "# ReduceLROnPlateau Trial"
   ]
  },
  {
   "cell_type": "code",
   "execution_count": 12,
   "metadata": {},
   "outputs": [],
   "source": [
    "# # Training and Validation Loop\n",
    "# num_epochs = 500\n",
    "# best_val_acc = 0.0\n",
    "\n",
    "# for epoch in range(num_epochs):\n",
    "#     model.train()\n",
    "#     train_loss = 0.0\n",
    "#     train_acc = 0.0\n",
    "#     for batch_idx, (data, target) in enumerate(tqdm(trainloader)):\n",
    "#         data, target = data.to(device), target.to(device)\n",
    "#         optimizer.zero_grad()\n",
    "#         output = model(data)\n",
    "#         loss = criterion(output, target)\n",
    "#         loss.backward()\n",
    "#         optimizer.step()\n",
    "#         train_loss += loss.item()\n",
    "#         train_acc += accuracy_score(target.cpu(), output.argmax(dim=1).cpu())\n",
    "#     train_loss /= len(trainloader)\n",
    "#     train_acc /= len(trainloader)\n",
    "\n",
    "#     model.eval()\n",
    "#     val_loss = 0.0\n",
    "#     val_acc = 0.0\n",
    "#     with torch.no_grad():\n",
    "#         for batch_idx, (data, target) in enumerate(tqdm(validloader)):\n",
    "#             data, target = data.to(device), target.to(device)\n",
    "#             output = model(data)\n",
    "#             loss = criterion(output, target)\n",
    "#             val_loss += loss.item()\n",
    "#             val_acc += accuracy_score(target.cpu(), output.argmax(dim=1).cpu())\n",
    "#     val_loss /= len(validloader)\n",
    "    \n",
    "#     val_acc /= len(validloader)\n",
    "\n",
    "#     # Update ReduceLROnPlateau scheduler based on validation loss\n",
    "#     scheduler.step(val_loss)\n",
    "\n",
    "#     print(f'Epoch: {epoch+1}/{num_epochs} \\tTrain Loss: {train_loss:.4f} \\tTrain Acc: {train_acc:.4f} \\tVal Loss: {val_loss:.4f} \\tVal Acc: {val_acc:.4f}')\n",
    "\n",
    "#     # Save the model if the validation accuracy improves\n",
    "#     if val_acc > best_val_acc:\n",
    "#         best_val_acc = val_acc\n",
    "#         torch.save(model.state_dict(), save_path)\n",
    "#         print(f'Best model saved with Val Acc: {best_val_acc:.4f}')\n"
   ]
  },
  {
   "cell_type": "markdown",
   "metadata": {},
   "source": [
    "# CosineAnnealingLR Trial"
   ]
  },
  {
   "cell_type": "code",
   "execution_count": null,
   "metadata": {},
   "outputs": [],
   "source": [
    "# Training and Validation Loop\n",
    "num_epochs = 500\n",
    "best_val_acc = 0.0\n",
    "\n",
    "for epoch in range(num_epochs):\n",
    "    model.train()\n",
    "    train_loss = 0.0\n",
    "    train_acc = 0.0\n",
    "    for batch_idx, (data, target) in enumerate(tqdm(trainloader)):\n",
    "        data, target = data.to(device), target.to(device)\n",
    "        optimizer.zero_grad()\n",
    "        output = model(data)\n",
    "        loss = criterion(output, target)\n",
    "        loss.backward()\n",
    "        optimizer.step()\n",
    "\n",
    "        # Accumulate training loss and accuracy\n",
    "        train_loss += loss.item()\n",
    "        train_acc += accuracy_score(target.cpu(), output.argmax(dim=1).cpu())\n",
    "    \n",
    "    train_loss /= len(trainloader)\n",
    "    train_acc /= len(trainloader)\n",
    "\n",
    "    # Validation loop\n",
    "    model.eval()\n",
    "    val_loss = 0.0\n",
    "    val_acc = 0.0\n",
    "    with torch.no_grad():\n",
    "        for batch_idx, (data, target) in enumerate(tqdm(validloader)):\n",
    "            data, target = data.to(device), target.to(device)\n",
    "            output = model(data)\n",
    "            loss = criterion(output, target)\n",
    "            \n",
    "            # Accumulate validation loss and accuracy\n",
    "            val_loss += loss.item()\n",
    "            val_acc += accuracy_score(target.cpu(), output.argmax(dim=1).cpu())\n",
    "    \n",
    "    val_loss /= len(validloader)\n",
    "    val_acc /= len(validloader)\n",
    "\n",
    "    # Update learning rate scheduler\n",
    "    # For CosineAnnealingLR or StepLR\n",
    "    if not isinstance(scheduler, torch.optim.lr_scheduler.ReduceLROnPlateau):\n",
    "        scheduler.step()  # No need for epoch parameter\n",
    "\n",
    "    # For ReduceLROnPlateau\n",
    "    else:\n",
    "        scheduler.step(val_loss)  # Use validation loss for ReduceLROnPlateau\n",
    "\n",
    "    # Print progress for the current epoch\n",
    "    print(f'Epoch: {epoch+1}/{num_epochs} \\tTrain Loss: {train_loss:.4f} \\tTrain Acc: {train_acc:.4f} \\tVal Loss: {val_loss:.4f} \\tVal Acc: {val_acc:.4f}')\n",
    "\n",
    "    # Save the model if validation accuracy improves\n",
    "    if val_acc > best_val_acc:\n",
    "        best_val_acc = val_acc\n",
    "        torch.save(model.state_dict(), save_path)\n",
    "        print(f'Best model saved with Val Acc: {best_val_acc:.4f}')\n"
   ]
  },
  {
   "cell_type": "markdown",
   "metadata": {},
   "source": [
    "# Best Training Value Accuracy"
   ]
  },
  {
   "cell_type": "code",
   "execution_count": 12,
   "metadata": {},
   "outputs": [
    {
     "data": {
      "text/plain": [
       "0.87890625"
      ]
     },
     "execution_count": 12,
     "metadata": {},
     "output_type": "execute_result"
    }
   ],
   "source": [
    "best_val_acc"
   ]
  },
  {
   "cell_type": "markdown",
   "metadata": {},
   "source": [
    "# Evaluate Model"
   ]
  },
  {
   "cell_type": "code",
   "execution_count": null,
   "metadata": {},
   "outputs": [],
   "source": [
    "# Initialize empty lists to store true labels, predicted labels, and probabilities\n",
    "y_true_Train = []\n",
    "y_pred_Train = []\n",
    "y_prob_Train = []\n",
    "\n",
    "# Iterate over the test set\n",
    "for inputs, labels in testloader:\n",
    "    inputs = inputs.to(device)\n",
    "    labels = labels.to(device)\n",
    "\n",
    "    # Make predictions without computing gradients\n",
    "    with torch.no_grad():\n",
    "        outputs = model(inputs)\n",
    "        _, preds = torch.max(outputs, 1)\n",
    "        probs = torch.nn.functional.softmax(outputs, dim=1)\n",
    "\n",
    "    # Append true labels, predicted labels, and probabilities\n",
    "    y_true_Train.extend(labels.cpu().numpy())\n",
    "    y_pred_Train.extend(preds.cpu().numpy())\n",
    "    y_prob_Train.extend(probs.cpu().numpy())\n",
    "\n",
    "# Convert lists to numpy arrays\n",
    "y_true_Train = np.array(y_true_Train)\n",
    "y_pred_Train = np.array(y_pred_Train)\n",
    "y_prob_Train = np.array(y_prob_Train)\n",
    "\n",
    "# Compute accuracy and misclassified examples\n",
    "Taccuracy = accuracy_score(y_true_Train, y_pred_Train)\n",
    "Tmissed = (y_true_Train != y_pred_Train).sum()\n",
    "\n",
    "# Compute recall, precision, F1-score for each class\n",
    "Tprecision = precision_score(y_true_Train, y_pred_Train, average='weighted')  # Weighted for class imbalance\n",
    "Trecall = recall_score(y_true_Train, y_pred_Train, average='macro')\n",
    "Tf1 = f1_score(y_true_Train, y_pred_Train, average='weighted')\n",
    "Tauc = roc_auc_score(y_true_Train, y_prob_Train, multi_class='ovr', average='weighted')  \n",
    "# Print classification report\n",
    "print(\"Classification Report:\")\n",
    "print(classification_report(y_true_Train, y_pred_Train, target_names=class_names))\n",
    "\n",
    "# Optionally, print the confusion matrix\n",
    "print(\"Confusion Matrix:\")\n",
    "print(confusion_matrix(y_true_Train, y_pred_Train))\n",
    "\n",
    "# Compute multi-class AUC score\n",
    "# AUC requires probability scores rather than class labels\n",
    "print(f'\\nMisclassified examples: {Tmissed}')\n",
    "print(f\"Accuracy: {100 * Taccuracy:.2f}%\")\n",
    "print(f\"          {y_true_Train.size - Tmissed}/{y_true_Train.size}\")\n",
    "\n",
    "\n",
    "print(f\"\\nAUC (Weighted, OvR): {Tauc}\")\n",
    "print(f\"Precision (Weighted): {Tprecision:.4f}\")\n",
    "print(f\"Recall (Weighted): {Trecall:.4f}\")\n",
    "print(f\"F1-Score (Weighted): {Tf1:.4f}\")\n"
   ]
  },
  {
   "cell_type": "markdown",
   "metadata": {},
   "source": [
    "Save Best Model"
   ]
  },
  {
   "cell_type": "code",
   "execution_count": null,
   "metadata": {},
   "outputs": [],
   "source": [
    "if SMaccuracy < Taccuracy:\n",
    "    torch.save(model.state_dict(), best_model_path) \n",
    "    print(f'New model saved with Testing Accuracy: {Taccuracy:.4f}, replacing super model.')\n",
    "else:\n",
    "    print(f\"Super model retained with Testing Accuracy: {SMaccuracy:.4f}\")"
   ]
  },
  {
   "cell_type": "markdown",
   "metadata": {},
   "source": [
    "Confusion Matrix"
   ]
  },
  {
   "cell_type": "code",
   "execution_count": 15,
   "metadata": {},
   "outputs": [
    {
     "data": {
      "image/png": "[encoded data removed]",
      "text/plain": [
       "<Figure size 600x400 with 1 Axes>"
      ]
     },
     "metadata": {},
     "output_type": "display_data"
    }
   ],
   "source": [
    "# Calculate confusion matrix\n",
    "cm = confusion_matrix(y_true_Train, y_pred_Train)\n",
    "\n",
    "# Create a heatmap for the confusion matrix\n",
    "plt.figure(figsize=(6, 4))\n",
    "sns.heatmap(cm, annot=True, fmt=\"d\", cmap=\"Blues\", cbar=False)\n",
    "\n",
    "# Add labels and title\n",
    "plt.xlabel('Predicted Labels')\n",
    "plt.ylabel('True Labels')\n",
    "plt.title('Confusion Matrix')\n",
    "\n",
    "# Display the plot\n",
    "plt.show()"
   ]
  },
  {
   "cell_type": "markdown",
   "metadata": {},
   "source": [
    "# Test Model"
   ]
  },
  {
   "cell_type": "markdown",
   "metadata": {},
   "source": [
    "Load Model"
   ]
  },
  {
   "cell_type": "code",
   "execution_count": null,
   "metadata": {},
   "outputs": [],
   "source": [
    "from efficientnet_pytorch import EfficientNet\n",
    "import torch\n",
    "\n",
    "# Load the state dict into the model, using strict=False to handle any mismatched keys\n",
    "model = models.efficientnet_b0(weights='DEFAULT')  # Initialize the same architecture\n",
    "num_ftrs = model.classifier[1].in_features\n",
    "model.classifier[1] = nn.Linear(num_ftrs, len(class_names))  # Assuming 10 classes (shark species)\n",
    "model.load_state_dict(torch.load('/home/iambrink/Shark_Object_Detection/Shark_AI_Detection_Model_V2'))  # Load the pre-saved model's state\n",
    "# Set the model to evaluation mode\n",
    "model.eval()\n",
    "\n",
    "# Move the model to the appropriate device (CPU or GPU)\n",
    "device = torch.device(\"cuda\" if torch.cuda.is_available() else \"cpu\")\n",
    "model.to(device)\n"
   ]
  },
  {
   "cell_type": "markdown",
   "metadata": {},
   "source": [
    "Define Test"
   ]
  },
  {
   "cell_type": "code",
   "execution_count": 42,
   "metadata": {},
   "outputs": [
    {
     "name": "stdout",
     "output_type": "stream",
     "text": [
      "Confusion Matrix:\n",
      "[[42  1  0  0  0  0  0  1  0  1]\n",
      " [ 0 44  1  0  0  0  0  0  0  0]\n",
      " [ 0  1 42  0  0  1  0  1  0  0]\n",
      " [ 4  2  0 33  0  1  4  1  0  0]\n",
      " [ 1  0  0  0 40  0  1  0  3  0]\n",
      " [ 0  0  0  1  0 42  1  0  1  0]\n",
      " [ 3  0  0  2  2  1 33  3  1  0]\n",
      " [ 1  0  1  0  0  0  4 38  0  1]\n",
      " [ 2  0  0  1  0  0  0  0 41  1]\n",
      " [ 2  0  0  0  0  0  0  1  4 38]]\n",
      "Classification Report:\n",
      "                  precision    recall  f1-score   support\n",
      "\n",
      "      Blue Shark       0.76      0.93      0.84        45\n",
      "     Whale Shark       0.92      0.98      0.95        45\n",
      "     Nurse Shark       0.95      0.93      0.94        45\n",
      "     Tiger Shark       0.89      0.73      0.80        45\n",
      "  Whitetip Shark       0.95      0.89      0.92        45\n",
      "Sand Tiger Shark       0.93      0.93      0.93        45\n",
      "      Bull Shark       0.77      0.73      0.75        45\n",
      "Hammerhead Shark       0.84      0.84      0.84        45\n",
      "     White Shark       0.82      0.91      0.86        45\n",
      "      Mako Shark       0.93      0.84      0.88        45\n",
      "\n",
      "        accuracy                           0.87       450\n",
      "       macro avg       0.88      0.87      0.87       450\n",
      "    weighted avg       0.88      0.87      0.87       450\n",
      "\n",
      "Super Model Accuracy: 87.33%\n",
      "Super Model AUC: 0.9851\n",
      "Super Model Precision: 0.8771\n",
      "Super Model Recall: 0.8733\n",
      "Super Model F1 Score: 0.8729\n"
     ]
    }
   ],
   "source": [
    "y_true, y_pred, y_prob = [], [], []\n",
    "\n",
    "with torch.no_grad():\n",
    "    for inputs, labels in testloader:\n",
    "        inputs = inputs.to(device)\n",
    "        labels = labels.to(device)\n",
    "        \n",
    "        outputs = model(inputs)\n",
    "        _, preds = torch.max(outputs, 1)\n",
    "        probs = torch.nn.functional.softmax(outputs, dim=1)\n",
    "        \n",
    "        y_true.extend(labels.cpu().numpy())\n",
    "        y_pred.extend(preds.cpu().numpy())\n",
    "        y_prob.extend(probs.cpu().numpy())\n",
    "\n",
    "y_true = np.array(y_true)\n",
    "y_pred = np.array(y_pred)\n",
    "y_prob = np.array(y_prob)\n",
    "\n",
    "# Calculate evaluation metrics\n",
    "SMaccuracy = accuracy_score(y_true, y_pred)\n",
    "SMprecision, SMrecall, SMf1, _ = precision_recall_fscore_support(y_true, y_pred, average='weighted')\n",
    "SMauc = roc_auc_score(y_true, y_prob, multi_class='ovr')\n",
    "\n",
    "# Print confusion matrix and classification report\n",
    "print(\"Confusion Matrix:\")\n",
    "print(confusion_matrix(y_true, y_pred))\n",
    "\n",
    "print(\"Classification Report:\")\n",
    "print(classification_report(y_true, y_pred, target_names=class_names))\n",
    "\n",
    "# Print additional stats\n",
    "print(f\"Super Model Accuracy: {100 * SMaccuracy:.2f}%\")\n",
    "print(f\"Super Model AUC: {SMauc:.4f}\")\n",
    "print(f\"Super Model Precision: {SMprecision:.4f}\")\n",
    "print(f\"Super Model Recall: {SMrecall:.4f}\")\n",
    "print(f\"Super Model F1 Score: {SMf1:.4f}\")"
   ]
  },
  {
   "cell_type": "markdown",
   "metadata": {},
   "source": [
    "Confusion Matrix"
   ]
  },
  {
   "cell_type": "code",
   "execution_count": 49,
   "metadata": {},
   "outputs": [
    {
     "data": {
      "image/png": "[encoded data removed]",
      "text/plain": [
       "<Figure size 600x600 with 1 Axes>"
      ]
     },
     "metadata": {},
     "output_type": "display_data"
    }
   ],
   "source": [
    "# Compute confusion matrix\n",
    "conf_matrix = confusion_matrix(y_true, y_pred)\n",
    "\n",
    "# Plot confusion matrix using seaborn heatmap\n",
    "plt.figure(figsize=(6, 6))\n",
    "sns.heatmap(conf_matrix, annot=True, fmt='d', cmap='Blues', cbar=False,\n",
    "            xticklabels=class_names, yticklabels=class_names)\n",
    "\n",
    "# Add labels and title\n",
    "plt.title('Confusion Matrix')\n",
    "plt.xlabel('Predicted Labels')\n",
    "plt.ylabel('True Labels')\n",
    "\n",
    "# Show the plot\n",
    "plt.show()\n"
   ]
  }
 ],
 "metadata": {
  "kernelspec": {
   "display_name": "tf-gpu",
   "language": "python",
   "name": "python3"
  },
  "language_info": {
   "codemirror_mode": {
    "name": "ipython",
    "version": 3
   },
   "file_extension": ".py",
   "mimetype": "text/x-python",
   "name": "python",
   "nbconvert_exporter": "python",
   "pygments_lexer": "ipython3",
   "version": "3.11.9"
  }
 },
 "nbformat": 4,
 "nbformat_minor": 2
}
